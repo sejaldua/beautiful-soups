{
 "cells": [
  {
   "cell_type": "code",
   "execution_count": 1,
   "metadata": {},
   "outputs": [
    {
     "name": "stdout",
     "output_type": "stream",
     "text": [
      "['', '', '', 'Vegetable Soups (1 cup serving)', '', '', '', ' Barley Soup', '0.76', '17.91', '4.78', '95', '', '', ' Broccoli Soup', '11.90', '17.92', '8.15', '206', '', '', ' Butternut Squash Soup', '2.06', '17.91', '2.22', '90', '', '', ' Cabbage Soup', '3.26', '7.69', '3.92', '71', '', '', ' Chunky Vegetable Soup', '3.70', '19.01', '3.50', '122', '', '', ' French Onion Soup', '16.53', '39.33', '15.91', '369', '', '', ' Hot and Sour Soup', '7.91', '4.95', '15.10', '163', '', '', ' Leek Soup', '2.06', '11.43', '2.11', '71', '', '', ' Lentil Soup', '4.59', '26.61', '10.42', '186', '', '', ' Miso Soup', '3.36', '7.78', '6.02', '84', '', '', ' Mixed Beans Soup', '1.48', '21.63', '8.43', '129', '', '', ' Potato Soup', '3.56', '14.25', '3.73', '105', '', '', ' Pumpkin Soup', '6.11', '10.99', '2.90', '104', '', '', ' Split Pea Soup', '2.92', '26.50', '8.60', '165', '', '', ' Tomato Soup', '2.93', '17.93', '3.05', '102', '', '', ' Vegetable Soup', '1.93', '11.98', '2.12', '72', '', '', ' Vegetable Soup (Low Sodium)', '0.76', '12.14', '2.02', '56', '', '', '', 'Meat Soups (1 cup serving)', '', '', '', ' Beef Barley Soup', '2.06', '23.01', '6.68', '135', '', '', ' Beef Rice Soup', '3.08', '11.42', '8.24', '108', '', '', ' Chicken Soup', '2.61', '1.88', '11.09', '78', '', '', ' Chicken Soup with Dumplings', '5.52', '6.05', '5.62', '96', '', '', ' Chicken Tortilla Soup', '3.01', '16.01', '8.02', '121', '', '', ' Chicken Vegetable Soup', '2.84', '8.58', '3.62', '75', '', '', ' Chili Beef Soup', '6.60', '21.45', '6.70', '170', '', '', ' Chunky Beef Soup', '5.14', '19.56', '11.74', '170', '', '', ' Chunky Chicken Soup', '6.34', '16.51', '12.14', '170', '', '', ' Chunky Turkey Soup', '4.41', '14.07', '10.22', '135', '', '', ' Italian Wedding Soup', '7.64', '15.91', '13.86', '190', '', '', ' Taco Soup', '5.32', '20.07', '18.52', '197', '', '', ' Tomato Beef Soup', '4.29', '21.15', '4.47', '139', '', '', ' Turkey Vegetable Soup', '6.08', '17.34', '6.20', '148', '', '', ' Vegetable Beef Soup', '1.90', '10.17', '5.59', '78', '', '', ' Vegetable Chicken Rice Soup', '2.36', '7.86', '3.57', '67', '', '', ' Won Ton Soup (Wonton)', '7.06', '14.24', '14.17', '181', '', '', '', 'Noodle Soups (1 cup serving)', '', '', '', ' Beef Noodle Soup', '3.07', '8.98', '4.83', '83', '', '', ' Chicken Noodle Soup', '2.39', '7.40', '3.18', '65', '', '', ' Chunky Chicken Noodle Soup', '6.00', '17.04', '12.72', '175', '', '', ' Egg Drop Soup', '3.83', '1.10', '7.52', '73', '', '', ' Instant Noodle Soup', '0.84', '7.32', '2.16', '46', '', '', ' Minestrone Soup', '2.81', '20.74', '5.11', '127', '', '', ' Turkey Noodle Soup', '2.00', '8.64', '3.90', '68', '', '', ' Vegetable Noodle Soup', '1.93', '11.98', '2.12', '72', '', '', '', 'Creamed Soups (1 cup serving)', '', '', '', ' Cream of Asparagus Soup', '5.36', '13.69', '4.34', '119', '', '', ' Cream of Cauliflower Soup', '11.80', '15.38', '7.54', '196', '', '', ' Cream of Celery Soup', '6.78', '11.61', '3.64', '120', '', '', ' Cream of Chicken Soup', '14.48', '17.97', '5.97', '223', '', '', ' Cream of Leek Soup', '7.74', '18.82', '6.80', '171', '', '', ' Cream of Mushroom Soup', '14.78', '16.87', '4.04', '213', '', '', ' Cream of Shrimp Soup', '7.20', '10.96', '4.76', '127', '', '', '', 'Bisques (1 cup serving)', '', '', '', ' Lobster Bisque', '12.77', '12.67', '20.01', '248', '', '', ' Tomato Bisque', '5.01', '47.47', '4.52', '247', '', '', '', 'Chowders (1 cup serving)', '', '', '', ' Clam Chowder', '5.83', '19.01', '8.83', '163', '', '', ' Fish Chowder', '4.90', '11.71', '23.74', '190', '', '', ' Manhattan Clam Chowder', '2.78', '15.41', '4.70', '106', '', '', ' New England Clam Chowder', '6.49', '16.35', '9.32', '161', '', '', ' Potato Chowder', '13.34', '19.12', '6.45', '218', '', '', '', 'Gumbo (1 cup serving)', '', '', '', ' New Orleans Type Gumbo', '8.39', '11.10', '14.57', '178', '', '', ' New Orleans Type Gumbo with Rice', '7.56', '17.20', '13.71', '193', '', '', ' Lobster Gumbo', '6.88', '20.37', '9.71', '178', '', '', ' Shrimp Gumbo', '6.54', '18.35', '8.88', '163', '', '', ' Chicken Gumbo', '2.86', '16.74', '5.27', '113', '', '', '', 'Broths (1 cup serving)', '', '', '', ' Beef Broth or Bouillon', '0.53', '0.10', '2.74', '17', '', '', ' Beef Broth (Low Sodium)', '1.44', '2.88', '4.80', '38', '', '', ' Chicken Broth or Bouillon', '1.37', '0.91', '4.85', '38', '', '', ' Chicken Broth (Low Sodium)', '0.24', '0.96', '2.40', '17', '', '', ' Fish Broth', '1.46', '0.98', '4.88', '39', '', '', ' Vegetable Broth or Bouillon', '0.02', '1.99', '2.09', '17', '']\n"
     ]
    }
   ],
   "source": [
    "# WEB SCRAPING\n",
    "\n",
    "import requests\n",
    "r = requests.get('https://www.fatsecret.com/calories-nutrition/food/soup')\n",
    "c = r.content\n",
    "from bs4 import BeautifulSoup\n",
    "soup = BeautifulSoup(c, \"lxml\")\n",
    "#print(soup)\n",
    "main_content = soup.find('div', attrs = {'class': 'leftCellContent'})\n",
    "#print(main_content)\n",
    "content = main_content.find('tbody').text\n",
    "#print(content)\n",
    "linelist = content.splitlines()\n",
    "print(linelist)\n",
    "\n",
    "        \n",
    "\n"
   ]
  },
  {
   "cell_type": "code",
   "execution_count": 30,
   "metadata": {},
   "outputs": [
    {
     "ename": "error",
     "evalue": "bad escape \\O at position 0",
     "output_type": "error",
     "traceback": [
      "\u001b[0;31m---------------------------------------------------------------------------\u001b[0m",
      "\u001b[0;31merror\u001b[0m                                     Traceback (most recent call last)",
      "\u001b[0;32m<ipython-input-30-1e262dbd498b>\u001b[0m in \u001b[0;36m<module>\u001b[0;34m()\u001b[0m\n\u001b[1;32m      9\u001b[0m \u001b[0;31m#     cities[j] = cities[j] + \", \" + states[j]\u001b[0m\u001b[0;34m\u001b[0m\u001b[0;34m\u001b[0m\u001b[0;34m\u001b[0m\u001b[0m\n\u001b[1;32m     10\u001b[0m \u001b[0;34m\u001b[0m\u001b[0m\n\u001b[0;32m---> 11\u001b[0;31m \u001b[0mpopulation\u001b[0m \u001b[0;34m=\u001b[0m \u001b[0mre\u001b[0m\u001b[0;34m.\u001b[0m\u001b[0mcompile\u001b[0m\u001b[0;34m(\u001b[0m\u001b[0;34mr'\\Official.+'\u001b[0m\u001b[0;34m)\u001b[0m\u001b[0;34m\u001b[0m\u001b[0;34m\u001b[0m\u001b[0m\n\u001b[0m\u001b[1;32m     12\u001b[0m \u001b[0mpops\u001b[0m \u001b[0;34m=\u001b[0m \u001b[0mpopulation\u001b[0m\u001b[0;34m.\u001b[0m\u001b[0mfindall\u001b[0m\u001b[0;34m(\u001b[0m\u001b[0mcontent\u001b[0m\u001b[0;34m)\u001b[0m\u001b[0;34m\u001b[0m\u001b[0;34m\u001b[0m\u001b[0m\n\u001b[1;32m     13\u001b[0m \u001b[0;31m# counter = 0\u001b[0m\u001b[0;34m\u001b[0m\u001b[0;34m\u001b[0m\u001b[0;34m\u001b[0m\u001b[0m\n",
      "\u001b[0;32m/anaconda3/lib/python3.6/re.py\u001b[0m in \u001b[0;36mcompile\u001b[0;34m(pattern, flags)\u001b[0m\n\u001b[1;32m    231\u001b[0m \u001b[0;32mdef\u001b[0m \u001b[0mcompile\u001b[0m\u001b[0;34m(\u001b[0m\u001b[0mpattern\u001b[0m\u001b[0;34m,\u001b[0m \u001b[0mflags\u001b[0m\u001b[0;34m=\u001b[0m\u001b[0;36m0\u001b[0m\u001b[0;34m)\u001b[0m\u001b[0;34m:\u001b[0m\u001b[0;34m\u001b[0m\u001b[0;34m\u001b[0m\u001b[0m\n\u001b[1;32m    232\u001b[0m     \u001b[0;34m\"Compile a regular expression pattern, returning a pattern object.\"\u001b[0m\u001b[0;34m\u001b[0m\u001b[0;34m\u001b[0m\u001b[0m\n\u001b[0;32m--> 233\u001b[0;31m     \u001b[0;32mreturn\u001b[0m \u001b[0m_compile\u001b[0m\u001b[0;34m(\u001b[0m\u001b[0mpattern\u001b[0m\u001b[0;34m,\u001b[0m \u001b[0mflags\u001b[0m\u001b[0;34m)\u001b[0m\u001b[0;34m\u001b[0m\u001b[0;34m\u001b[0m\u001b[0m\n\u001b[0m\u001b[1;32m    234\u001b[0m \u001b[0;34m\u001b[0m\u001b[0m\n\u001b[1;32m    235\u001b[0m \u001b[0;32mdef\u001b[0m \u001b[0mpurge\u001b[0m\u001b[0;34m(\u001b[0m\u001b[0;34m)\u001b[0m\u001b[0;34m:\u001b[0m\u001b[0;34m\u001b[0m\u001b[0;34m\u001b[0m\u001b[0m\n",
      "\u001b[0;32m/anaconda3/lib/python3.6/re.py\u001b[0m in \u001b[0;36m_compile\u001b[0;34m(pattern, flags)\u001b[0m\n\u001b[1;32m    299\u001b[0m     \u001b[0;32mif\u001b[0m \u001b[0;32mnot\u001b[0m \u001b[0msre_compile\u001b[0m\u001b[0;34m.\u001b[0m\u001b[0misstring\u001b[0m\u001b[0;34m(\u001b[0m\u001b[0mpattern\u001b[0m\u001b[0;34m)\u001b[0m\u001b[0;34m:\u001b[0m\u001b[0;34m\u001b[0m\u001b[0;34m\u001b[0m\u001b[0m\n\u001b[1;32m    300\u001b[0m         \u001b[0;32mraise\u001b[0m \u001b[0mTypeError\u001b[0m\u001b[0;34m(\u001b[0m\u001b[0;34m\"first argument must be string or compiled pattern\"\u001b[0m\u001b[0;34m)\u001b[0m\u001b[0;34m\u001b[0m\u001b[0;34m\u001b[0m\u001b[0m\n\u001b[0;32m--> 301\u001b[0;31m     \u001b[0mp\u001b[0m \u001b[0;34m=\u001b[0m \u001b[0msre_compile\u001b[0m\u001b[0;34m.\u001b[0m\u001b[0mcompile\u001b[0m\u001b[0;34m(\u001b[0m\u001b[0mpattern\u001b[0m\u001b[0;34m,\u001b[0m \u001b[0mflags\u001b[0m\u001b[0;34m)\u001b[0m\u001b[0;34m\u001b[0m\u001b[0;34m\u001b[0m\u001b[0m\n\u001b[0m\u001b[1;32m    302\u001b[0m     \u001b[0;32mif\u001b[0m \u001b[0;32mnot\u001b[0m \u001b[0;34m(\u001b[0m\u001b[0mflags\u001b[0m \u001b[0;34m&\u001b[0m \u001b[0mDEBUG\u001b[0m\u001b[0;34m)\u001b[0m\u001b[0;34m:\u001b[0m\u001b[0;34m\u001b[0m\u001b[0;34m\u001b[0m\u001b[0m\n\u001b[1;32m    303\u001b[0m         \u001b[0;32mif\u001b[0m \u001b[0mlen\u001b[0m\u001b[0;34m(\u001b[0m\u001b[0m_cache\u001b[0m\u001b[0;34m)\u001b[0m \u001b[0;34m>=\u001b[0m \u001b[0m_MAXCACHE\u001b[0m\u001b[0;34m:\u001b[0m\u001b[0;34m\u001b[0m\u001b[0;34m\u001b[0m\u001b[0m\n",
      "\u001b[0;32m/anaconda3/lib/python3.6/sre_compile.py\u001b[0m in \u001b[0;36mcompile\u001b[0;34m(p, flags)\u001b[0m\n\u001b[1;32m    560\u001b[0m     \u001b[0;32mif\u001b[0m \u001b[0misstring\u001b[0m\u001b[0;34m(\u001b[0m\u001b[0mp\u001b[0m\u001b[0;34m)\u001b[0m\u001b[0;34m:\u001b[0m\u001b[0;34m\u001b[0m\u001b[0;34m\u001b[0m\u001b[0m\n\u001b[1;32m    561\u001b[0m         \u001b[0mpattern\u001b[0m \u001b[0;34m=\u001b[0m \u001b[0mp\u001b[0m\u001b[0;34m\u001b[0m\u001b[0;34m\u001b[0m\u001b[0m\n\u001b[0;32m--> 562\u001b[0;31m         \u001b[0mp\u001b[0m \u001b[0;34m=\u001b[0m \u001b[0msre_parse\u001b[0m\u001b[0;34m.\u001b[0m\u001b[0mparse\u001b[0m\u001b[0;34m(\u001b[0m\u001b[0mp\u001b[0m\u001b[0;34m,\u001b[0m \u001b[0mflags\u001b[0m\u001b[0;34m)\u001b[0m\u001b[0;34m\u001b[0m\u001b[0;34m\u001b[0m\u001b[0m\n\u001b[0m\u001b[1;32m    563\u001b[0m     \u001b[0;32melse\u001b[0m\u001b[0;34m:\u001b[0m\u001b[0;34m\u001b[0m\u001b[0;34m\u001b[0m\u001b[0m\n\u001b[1;32m    564\u001b[0m         \u001b[0mpattern\u001b[0m \u001b[0;34m=\u001b[0m \u001b[0;32mNone\u001b[0m\u001b[0;34m\u001b[0m\u001b[0;34m\u001b[0m\u001b[0m\n",
      "\u001b[0;32m/anaconda3/lib/python3.6/sre_parse.py\u001b[0m in \u001b[0;36mparse\u001b[0;34m(str, flags, pattern)\u001b[0m\n\u001b[1;32m    853\u001b[0m \u001b[0;34m\u001b[0m\u001b[0m\n\u001b[1;32m    854\u001b[0m     \u001b[0;32mtry\u001b[0m\u001b[0;34m:\u001b[0m\u001b[0;34m\u001b[0m\u001b[0;34m\u001b[0m\u001b[0m\n\u001b[0;32m--> 855\u001b[0;31m         \u001b[0mp\u001b[0m \u001b[0;34m=\u001b[0m \u001b[0m_parse_sub\u001b[0m\u001b[0;34m(\u001b[0m\u001b[0msource\u001b[0m\u001b[0;34m,\u001b[0m \u001b[0mpattern\u001b[0m\u001b[0;34m,\u001b[0m \u001b[0mflags\u001b[0m \u001b[0;34m&\u001b[0m \u001b[0mSRE_FLAG_VERBOSE\u001b[0m\u001b[0;34m,\u001b[0m \u001b[0;36m0\u001b[0m\u001b[0;34m)\u001b[0m\u001b[0;34m\u001b[0m\u001b[0;34m\u001b[0m\u001b[0m\n\u001b[0m\u001b[1;32m    856\u001b[0m     \u001b[0;32mexcept\u001b[0m \u001b[0mVerbose\u001b[0m\u001b[0;34m:\u001b[0m\u001b[0;34m\u001b[0m\u001b[0;34m\u001b[0m\u001b[0m\n\u001b[1;32m    857\u001b[0m         \u001b[0;31m# the VERBOSE flag was switched on inside the pattern.  to be\u001b[0m\u001b[0;34m\u001b[0m\u001b[0;34m\u001b[0m\u001b[0;34m\u001b[0m\u001b[0m\n",
      "\u001b[0;32m/anaconda3/lib/python3.6/sre_parse.py\u001b[0m in \u001b[0;36m_parse_sub\u001b[0;34m(source, state, verbose, nested)\u001b[0m\n\u001b[1;32m    414\u001b[0m     \u001b[0;32mwhile\u001b[0m \u001b[0;32mTrue\u001b[0m\u001b[0;34m:\u001b[0m\u001b[0;34m\u001b[0m\u001b[0;34m\u001b[0m\u001b[0m\n\u001b[1;32m    415\u001b[0m         itemsappend(_parse(source, state, verbose, nested + 1,\n\u001b[0;32m--> 416\u001b[0;31m                            not nested and not items))\n\u001b[0m\u001b[1;32m    417\u001b[0m         \u001b[0;32mif\u001b[0m \u001b[0;32mnot\u001b[0m \u001b[0msourcematch\u001b[0m\u001b[0;34m(\u001b[0m\u001b[0;34m\"|\"\u001b[0m\u001b[0;34m)\u001b[0m\u001b[0;34m:\u001b[0m\u001b[0;34m\u001b[0m\u001b[0;34m\u001b[0m\u001b[0m\n\u001b[1;32m    418\u001b[0m             \u001b[0;32mbreak\u001b[0m\u001b[0;34m\u001b[0m\u001b[0;34m\u001b[0m\u001b[0m\n",
      "\u001b[0;32m/anaconda3/lib/python3.6/sre_parse.py\u001b[0m in \u001b[0;36m_parse\u001b[0;34m(source, state, verbose, nested, first)\u001b[0m\n\u001b[1;32m    500\u001b[0m \u001b[0;34m\u001b[0m\u001b[0m\n\u001b[1;32m    501\u001b[0m         \u001b[0;32mif\u001b[0m \u001b[0mthis\u001b[0m\u001b[0;34m[\u001b[0m\u001b[0;36m0\u001b[0m\u001b[0;34m]\u001b[0m \u001b[0;34m==\u001b[0m \u001b[0;34m\"\\\\\"\u001b[0m\u001b[0;34m:\u001b[0m\u001b[0;34m\u001b[0m\u001b[0;34m\u001b[0m\u001b[0m\n\u001b[0;32m--> 502\u001b[0;31m             \u001b[0mcode\u001b[0m \u001b[0;34m=\u001b[0m \u001b[0m_escape\u001b[0m\u001b[0;34m(\u001b[0m\u001b[0msource\u001b[0m\u001b[0;34m,\u001b[0m \u001b[0mthis\u001b[0m\u001b[0;34m,\u001b[0m \u001b[0mstate\u001b[0m\u001b[0;34m)\u001b[0m\u001b[0;34m\u001b[0m\u001b[0;34m\u001b[0m\u001b[0m\n\u001b[0m\u001b[1;32m    503\u001b[0m             \u001b[0msubpatternappend\u001b[0m\u001b[0;34m(\u001b[0m\u001b[0mcode\u001b[0m\u001b[0;34m)\u001b[0m\u001b[0;34m\u001b[0m\u001b[0;34m\u001b[0m\u001b[0m\n\u001b[1;32m    504\u001b[0m \u001b[0;34m\u001b[0m\u001b[0m\n",
      "\u001b[0;32m/anaconda3/lib/python3.6/sre_parse.py\u001b[0m in \u001b[0;36m_escape\u001b[0;34m(source, escape, state)\u001b[0m\n\u001b[1;32m    399\u001b[0m         \u001b[0;32mif\u001b[0m \u001b[0mlen\u001b[0m\u001b[0;34m(\u001b[0m\u001b[0mescape\u001b[0m\u001b[0;34m)\u001b[0m \u001b[0;34m==\u001b[0m \u001b[0;36m2\u001b[0m\u001b[0;34m:\u001b[0m\u001b[0;34m\u001b[0m\u001b[0;34m\u001b[0m\u001b[0m\n\u001b[1;32m    400\u001b[0m             \u001b[0;32mif\u001b[0m \u001b[0mc\u001b[0m \u001b[0;32min\u001b[0m \u001b[0mASCIILETTERS\u001b[0m\u001b[0;34m:\u001b[0m\u001b[0;34m\u001b[0m\u001b[0;34m\u001b[0m\u001b[0m\n\u001b[0;32m--> 401\u001b[0;31m                 \u001b[0;32mraise\u001b[0m \u001b[0msource\u001b[0m\u001b[0;34m.\u001b[0m\u001b[0merror\u001b[0m\u001b[0;34m(\u001b[0m\u001b[0;34m\"bad escape %s\"\u001b[0m \u001b[0;34m%\u001b[0m \u001b[0mescape\u001b[0m\u001b[0;34m,\u001b[0m \u001b[0mlen\u001b[0m\u001b[0;34m(\u001b[0m\u001b[0mescape\u001b[0m\u001b[0;34m)\u001b[0m\u001b[0;34m)\u001b[0m\u001b[0;34m\u001b[0m\u001b[0;34m\u001b[0m\u001b[0m\n\u001b[0m\u001b[1;32m    402\u001b[0m             \u001b[0;32mreturn\u001b[0m \u001b[0mLITERAL\u001b[0m\u001b[0;34m,\u001b[0m \u001b[0mord\u001b[0m\u001b[0;34m(\u001b[0m\u001b[0mescape\u001b[0m\u001b[0;34m[\u001b[0m\u001b[0;36m1\u001b[0m\u001b[0;34m]\u001b[0m\u001b[0;34m)\u001b[0m\u001b[0;34m\u001b[0m\u001b[0;34m\u001b[0m\u001b[0m\n\u001b[1;32m    403\u001b[0m     \u001b[0;32mexcept\u001b[0m \u001b[0mValueError\u001b[0m\u001b[0;34m:\u001b[0m\u001b[0;34m\u001b[0m\u001b[0;34m\u001b[0m\u001b[0m\n",
      "\u001b[0;31merror\u001b[0m: bad escape \\O at position 0"
     ]
    }
   ],
   "source": [
    "soups = []\n",
    "fats = []\n",
    "carbs = []\n",
    "proteins = []\n",
    "cals = []\n",
    "\n",
    "count = 0\n",
    "for elem i linelist:\n",
    "    if (elem.find('(1 cup serving)'):\n",
    "        count = 0\n",
    "        continue\n",
    "    elif (elem == \"\"):\n",
    "        count = 0\n",
    "        continue\n",
    "    else:\n",
    "        \n",
    "\n"
   ]
  },
  {
   "cell_type": "code",
   "execution_count": null,
   "metadata": {},
   "outputs": [],
   "source": []
  }
 ],
 "metadata": {
  "kernelspec": {
   "display_name": "Python 3",
   "language": "python",
   "name": "python3"
  },
  "language_info": {
   "codemirror_mode": {
    "name": "ipython",
    "version": 3
   },
   "file_extension": ".py",
   "mimetype": "text/x-python",
   "name": "python",
   "nbconvert_exporter": "python",
   "pygments_lexer": "ipython3",
   "version": "3.6.8"
  }
 },
 "nbformat": 4,
 "nbformat_minor": 2
}
