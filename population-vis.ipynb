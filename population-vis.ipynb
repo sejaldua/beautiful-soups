{
 "cells": [
  {
   "cell_type": "code",
   "execution_count": 63,
   "metadata": {},
   "outputs": [
    {
     "data": {
      "text/plain": [
       "'\\nNew York City, NY (Population: 8,601,186)\\nLos Angeles, CA (Population: 4,057,841)\\nChicago, IL (Population: 2,679,044)\\nHouston, TX (Population: 2,359,480)\\nPhoenix, AZ (Population: 1,711,356)\\nPhiladelphia, PA (Population: 1,576,596)\\nSan Antonio, TX (Population: 1,565,929)\\nSan Diego, CA (Population: 1,453,775)\\nDallas, TX (Population: 1,379,735)\\nSan Jose, CA (Population: 1,033,519)\\n'"
      ]
     },
     "execution_count": 63,
     "metadata": {},
     "output_type": "execute_result"
    }
   ],
   "source": [
    "# WEB SCRAPING\n",
    "\n",
    "import requests\n",
    "r = requests.get('http://worldpopulationreview.com/us-cities/')\n",
    "c = r.content\n",
    "from bs4 import BeautifulSoup\n",
    "soup = BeautifulSoup(c, \"lxml\")\n",
    "main_content = soup.find('div', attrs = {'class': 'section-content'})\n",
    "content = main_content.find('ol').text\n",
    "content"
   ]
  },
  {
   "cell_type": "code",
   "execution_count": 64,
   "metadata": {},
   "outputs": [],
   "source": [
    "# DATA CLEANING\n",
    "\n",
    "import re\n",
    "city_pattern = re.compile(r'^([A-Z]{1}.+?)(?:,)', flags = re.M)\n",
    "cities = city_pattern.findall(content)\n",
    "\n",
    "state_pattern = re.compile(r'(?:,|,\\s)([A-Z]{1}.*?)(?:\\s\\(|:|,)')\n",
    "states = state_pattern.findall(content)\n",
    "for j in range(len(cities)):\n",
    "    cities[j] = cities[j] + \", \" + states[j]\n",
    "\n",
    "population = re.compile(r'\\(Population:.+')\n",
    "pops = population.findall(content)\n",
    "counter = 0\n",
    "for p in pops:\n",
    "    pops[counter] = p[0:len(p)-1]\n",
    "    counter = counter + 1\n",
    "    \n",
    "pops = [int(''.join(p[13:].split(','))) for p in pops]"
   ]
  },
  {
   "cell_type": "code",
   "execution_count": 67,
   "metadata": {},
   "outputs": [
    {
     "data": {
      "text/html": [
       "<div>\n",
       "<style scoped>\n",
       "    .dataframe tbody tr th:only-of-type {\n",
       "        vertical-align: middle;\n",
       "    }\n",
       "\n",
       "    .dataframe tbody tr th {\n",
       "        vertical-align: top;\n",
       "    }\n",
       "\n",
       "    .dataframe thead th {\n",
       "        text-align: right;\n",
       "    }\n",
       "</style>\n",
       "<table border=\"1\" class=\"dataframe\">\n",
       "  <thead>\n",
       "    <tr style=\"text-align: right;\">\n",
       "      <th></th>\n",
       "      <th>city</th>\n",
       "      <th>population</th>\n",
       "    </tr>\n",
       "  </thead>\n",
       "  <tbody>\n",
       "    <tr>\n",
       "      <th>0</th>\n",
       "      <td>San Jose, CA</td>\n",
       "      <td>1033519</td>\n",
       "    </tr>\n",
       "    <tr>\n",
       "      <th>1</th>\n",
       "      <td>Dallas, TX</td>\n",
       "      <td>1379735</td>\n",
       "    </tr>\n",
       "    <tr>\n",
       "      <th>2</th>\n",
       "      <td>San Diego, CA</td>\n",
       "      <td>1453775</td>\n",
       "    </tr>\n",
       "    <tr>\n",
       "      <th>3</th>\n",
       "      <td>San Antonio, TX</td>\n",
       "      <td>1565929</td>\n",
       "    </tr>\n",
       "    <tr>\n",
       "      <th>4</th>\n",
       "      <td>Philadelphia, PA</td>\n",
       "      <td>1576596</td>\n",
       "    </tr>\n",
       "    <tr>\n",
       "      <th>5</th>\n",
       "      <td>Phoenix, AZ</td>\n",
       "      <td>1711356</td>\n",
       "    </tr>\n",
       "    <tr>\n",
       "      <th>6</th>\n",
       "      <td>Houston, TX</td>\n",
       "      <td>2359480</td>\n",
       "    </tr>\n",
       "    <tr>\n",
       "      <th>7</th>\n",
       "      <td>Chicago, IL</td>\n",
       "      <td>2679044</td>\n",
       "    </tr>\n",
       "    <tr>\n",
       "      <th>8</th>\n",
       "      <td>Los Angeles, CA</td>\n",
       "      <td>4057841</td>\n",
       "    </tr>\n",
       "    <tr>\n",
       "      <th>9</th>\n",
       "      <td>New York City, NY</td>\n",
       "      <td>8601186</td>\n",
       "    </tr>\n",
       "  </tbody>\n",
       "</table>\n",
       "</div>"
      ],
      "text/plain": [
       "                city  population\n",
       "0       San Jose, CA     1033519\n",
       "1         Dallas, TX     1379735\n",
       "2      San Diego, CA     1453775\n",
       "3    San Antonio, TX     1565929\n",
       "4   Philadelphia, PA     1576596\n",
       "5        Phoenix, AZ     1711356\n",
       "6        Houston, TX     2359480\n",
       "7        Chicago, IL     2679044\n",
       "8    Los Angeles, CA     4057841\n",
       "9  New York City, NY     8601186"
      ]
     },
     "execution_count": 67,
     "metadata": {},
     "output_type": "execute_result"
    }
   ],
   "source": [
    "# DATA FRAME\n",
    "\n",
    "import pandas as pd\n",
    "\n",
    "df = pd.DataFrame({'city': cities, 'population': pops})\n",
    "df = df.sort_values('population', ascending = True).reset_index().drop(columns='index')\n",
    "df"
   ]
  },
  {
   "cell_type": "code",
   "execution_count": 68,
   "metadata": {},
   "outputs": [
    {
     "data": {
      "text/plain": [
       "<matplotlib.axes._subplots.AxesSubplot at 0x11448f198>"
      ]
     },
     "execution_count": 68,
     "metadata": {},
     "output_type": "execute_result"
    },
    {
     "data": {
      "image/png": "[encoded data removed]",
      "text/plain": [
       "<Figure size 432x288 with 1 Axes>"
      ]
     },
     "metadata": {},
     "output_type": "display_data"
    }
   ],
   "source": [
    "# DATA VISUALIZATION\n",
    "\n",
    "df.plot(kind = 'barh', x = 'city', y = 'population')"
   ]
  },
  {
   "cell_type": "code",
   "execution_count": null,
   "metadata": {},
   "outputs": [],
   "source": []
  }
 ],
 "metadata": {
  "kernelspec": {
   "display_name": "Python 3",
   "language": "python",
   "name": "python3"
  },
  "language_info": {
   "codemirror_mode": {
    "name": "ipython",
    "version": 3
   },
   "file_extension": ".py",
   "mimetype": "text/x-python",
   "name": "python",
   "nbconvert_exporter": "python",
   "pygments_lexer": "ipython3",
   "version": "3.6.8"
  }
 },
 "nbformat": 4,
 "nbformat_minor": 2
}
